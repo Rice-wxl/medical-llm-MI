{
 "cells": [
  {
   "cell_type": "markdown",
   "id": "0ce59a93",
   "metadata": {},
   "source": [
    "# Transformer Lens Trial"
   ]
  },
  {
   "cell_type": "markdown",
   "id": "400b7b92",
   "metadata": {},
   "source": [
    "Running some experiments on using transformerlens to medical LLMs"
   ]
  },
  {
   "cell_type": "markdown",
   "id": "09fa26c2",
   "metadata": {},
   "source": [
    "# Setup"
   ]
  },
  {
   "cell_type": "code",
   "execution_count": 9,
   "id": "ef815531",
   "metadata": {},
   "outputs": [],
   "source": [
    "import os\n",
    "IN_COLAB = False\n",
    "\n",
    "# Install if in Colab\n",
    "if IN_COLAB:\n",
    "    %pip install transformer_lens\n",
    "    %pip install circuitsvis\n",
    "    # Install a faster Node version\n",
    "    !curl -fsSL https://deb.nodesource.com/setup_16.x | sudo -E bash -; sudo apt-get install -y nodejs  # noqa\n",
    "\n",
    "from IPython import get_ipython\n",
    "ip = get_ipython()\n",
    "if not ip.extension_manager.loaded:\n",
    "    ip.extension_manager.load('autoreload')\n",
    "    %autoreload 2\n",
    "\n",
    "IN_GITHUB = os.getenv(\"GITHUB_ACTIONS\") == \"true\"\n"
   ]
  },
  {
   "cell_type": "code",
   "execution_count": 4,
   "id": "b535b686",
   "metadata": {},
   "outputs": [
    {
     "name": "stdout",
     "output_type": "stream",
     "text": [
      "Requirement already satisfied: transformer_lens in /oscar/home/xwang259/.conda/envs/ACDC/lib/python3.10/site-packages (1.6.1)\n",
      "Requirement already satisfied: beartype<0.15.0,>=0.14.1 in /oscar/home/xwang259/.conda/envs/ACDC/lib/python3.10/site-packages (from transformer_lens) (0.14.1)\n",
      "Requirement already satisfied: datasets>=2.7.1 in /oscar/home/xwang259/.conda/envs/ACDC/lib/python3.10/site-packages (from transformer_lens) (2.14.4)\n",
      "Requirement already satisfied: einops>=0.6.0 in /oscar/home/xwang259/.local/lib/python3.10/site-packages (from transformer_lens) (0.8.0)\n",
      "Requirement already satisfied: fancy-einsum>=0.0.3 in /oscar/home/xwang259/.conda/envs/ACDC/lib/python3.10/site-packages (from transformer_lens) (0.0.3)\n",
      "Requirement already satisfied: jaxtyping>=0.2.11 in /oscar/home/xwang259/.conda/envs/ACDC/lib/python3.10/site-packages (from transformer_lens) (0.2.19)\n",
      "Requirement already satisfied: numpy>=1.23 in /oscar/home/xwang259/.local/lib/python3.10/site-packages (from transformer_lens) (1.26.4)\n",
      "Requirement already satisfied: pandas>=1.1.5 in /oscar/home/xwang259/.local/lib/python3.10/site-packages (from transformer_lens) (2.2.2)\n",
      "Requirement already satisfied: rich>=12.6.0 in /oscar/home/xwang259/.conda/envs/ACDC/lib/python3.10/site-packages (from transformer_lens) (13.6.0)\n",
      "Requirement already satisfied: torch>=1.10 in /oscar/home/xwang259/.conda/envs/ACDC/lib/python3.10/site-packages (from transformer_lens) (1.13.1)\n",
      "Requirement already satisfied: tqdm>=4.64.1 in /oscar/home/xwang259/.conda/envs/ACDC/lib/python3.10/site-packages (from transformer_lens) (4.66.1)\n",
      "Requirement already satisfied: transformers>=4.25.1 in /oscar/home/xwang259/.conda/envs/ACDC/lib/python3.10/site-packages (from transformer_lens) (4.35.2)\n",
      "Requirement already satisfied: wandb>=0.13.5 in /oscar/home/xwang259/.local/lib/python3.10/site-packages (from transformer_lens) (0.17.0)\n",
      "Requirement already satisfied: pyarrow>=8.0.0 in /oscar/home/xwang259/.conda/envs/ACDC/lib/python3.10/site-packages (from datasets>=2.7.1->transformer_lens) (13.0.0)\n",
      "Requirement already satisfied: dill<0.3.8,>=0.3.0 in /oscar/home/xwang259/.conda/envs/ACDC/lib/python3.10/site-packages (from datasets>=2.7.1->transformer_lens) (0.3.7)\n",
      "Requirement already satisfied: requests>=2.19.0 in /oscar/home/xwang259/.conda/envs/ACDC/lib/python3.10/site-packages (from datasets>=2.7.1->transformer_lens) (2.31.0)\n",
      "Requirement already satisfied: xxhash in /oscar/home/xwang259/.conda/envs/ACDC/lib/python3.10/site-packages (from datasets>=2.7.1->transformer_lens) (3.4.1)\n",
      "Requirement already satisfied: multiprocess in /oscar/home/xwang259/.conda/envs/ACDC/lib/python3.10/site-packages (from datasets>=2.7.1->transformer_lens) (0.70.15)\n",
      "Requirement already satisfied: fsspec>=2021.11.1 in /oscar/home/xwang259/.local/lib/python3.10/site-packages (from fsspec[http]>=2021.11.1->datasets>=2.7.1->transformer_lens) (2024.3.1)\n",
      "Requirement already satisfied: aiohttp in /oscar/home/xwang259/.conda/envs/ACDC/lib/python3.10/site-packages (from datasets>=2.7.1->transformer_lens) (3.8.6)\n",
      "Requirement already satisfied: huggingface-hub<1.0.0,>=0.14.0 in /oscar/home/xwang259/.local/lib/python3.10/site-packages (from datasets>=2.7.1->transformer_lens) (0.23.0)\n",
      "Requirement already satisfied: packaging in /oscar/home/xwang259/.local/lib/python3.10/site-packages (from datasets>=2.7.1->transformer_lens) (24.0)\n",
      "Requirement already satisfied: pyyaml>=5.1 in /oscar/home/xwang259/.local/lib/python3.10/site-packages (from datasets>=2.7.1->transformer_lens) (6.0.1)\n",
      "Requirement already satisfied: typeguard>=2.13.3 in /oscar/home/xwang259/.conda/envs/ACDC/lib/python3.10/site-packages (from jaxtyping>=0.2.11->transformer_lens) (4.1.5)\n",
      "Requirement already satisfied: typing-extensions>=3.7.4.1 in /oscar/home/xwang259/.local/lib/python3.10/site-packages (from jaxtyping>=0.2.11->transformer_lens) (4.11.0)\n",
      "Requirement already satisfied: python-dateutil>=2.8.2 in /oscar/home/xwang259/.local/lib/python3.10/site-packages (from pandas>=1.1.5->transformer_lens) (2.9.0.post0)\n",
      "Requirement already satisfied: pytz>=2020.1 in /oscar/home/xwang259/.local/lib/python3.10/site-packages (from pandas>=1.1.5->transformer_lens) (2024.1)\n",
      "Requirement already satisfied: tzdata>=2022.7 in /oscar/home/xwang259/.local/lib/python3.10/site-packages (from pandas>=1.1.5->transformer_lens) (2024.1)\n",
      "Requirement already satisfied: markdown-it-py>=2.2.0 in /oscar/home/xwang259/.conda/envs/ACDC/lib/python3.10/site-packages (from rich>=12.6.0->transformer_lens) (3.0.0)\n",
      "Requirement already satisfied: pygments<3.0.0,>=2.13.0 in /oscar/home/xwang259/.conda/envs/ACDC/lib/python3.10/site-packages (from rich>=12.6.0->transformer_lens) (2.16.1)\n",
      "Requirement already satisfied: nvidia-cuda-runtime-cu11==11.7.99 in /oscar/home/xwang259/.conda/envs/ACDC/lib/python3.10/site-packages (from torch>=1.10->transformer_lens) (11.7.99)\n",
      "Requirement already satisfied: nvidia-cudnn-cu11==8.5.0.96 in /oscar/home/xwang259/.conda/envs/ACDC/lib/python3.10/site-packages (from torch>=1.10->transformer_lens) (8.5.0.96)\n",
      "Requirement already satisfied: nvidia-cublas-cu11==11.10.3.66 in /oscar/home/xwang259/.conda/envs/ACDC/lib/python3.10/site-packages (from torch>=1.10->transformer_lens) (11.10.3.66)\n",
      "Requirement already satisfied: nvidia-cuda-nvrtc-cu11==11.7.99 in /oscar/home/xwang259/.conda/envs/ACDC/lib/python3.10/site-packages (from torch>=1.10->transformer_lens) (11.7.99)\n",
      "Requirement already satisfied: setuptools in /oscar/home/xwang259/.conda/envs/ACDC/lib/python3.10/site-packages (from nvidia-cublas-cu11==11.10.3.66->torch>=1.10->transformer_lens) (68.2.2)\n",
      "Requirement already satisfied: wheel in /oscar/home/xwang259/.conda/envs/ACDC/lib/python3.10/site-packages (from nvidia-cublas-cu11==11.10.3.66->torch>=1.10->transformer_lens) (0.41.2)\n",
      "Requirement already satisfied: filelock in /oscar/home/xwang259/.local/lib/python3.10/site-packages (from transformers>=4.25.1->transformer_lens) (3.14.0)\n",
      "Requirement already satisfied: regex!=2019.12.17 in /oscar/home/xwang259/.conda/envs/ACDC/lib/python3.10/site-packages (from transformers>=4.25.1->transformer_lens) (2023.10.3)\n",
      "Requirement already satisfied: tokenizers<0.19,>=0.14 in /oscar/home/xwang259/.conda/envs/ACDC/lib/python3.10/site-packages (from transformers>=4.25.1->transformer_lens) (0.15.0)\n",
      "Requirement already satisfied: safetensors>=0.3.1 in /oscar/home/xwang259/.local/lib/python3.10/site-packages (from transformers>=4.25.1->transformer_lens) (0.4.3)\n",
      "Requirement already satisfied: click!=8.0.0,>=7.1 in /oscar/home/xwang259/.local/lib/python3.10/site-packages (from wandb>=0.13.5->transformer_lens) (8.1.7)\n",
      "Requirement already satisfied: docker-pycreds>=0.4.0 in /oscar/home/xwang259/.local/lib/python3.10/site-packages (from wandb>=0.13.5->transformer_lens) (0.4.0)\n",
      "Requirement already satisfied: gitpython!=3.1.29,>=1.0.0 in /oscar/home/xwang259/.local/lib/python3.10/site-packages (from wandb>=0.13.5->transformer_lens) (3.1.43)\n",
      "Requirement already satisfied: platformdirs in /oscar/home/xwang259/.local/lib/python3.10/site-packages (from wandb>=0.13.5->transformer_lens) (4.2.1)\n",
      "Requirement already satisfied: protobuf!=4.21.0,<5,>=3.19.0 in /oscar/home/xwang259/.local/lib/python3.10/site-packages (from wandb>=0.13.5->transformer_lens) (4.25.3)\n",
      "Requirement already satisfied: psutil>=5.0.0 in /oscar/home/xwang259/.local/lib/python3.10/site-packages (from wandb>=0.13.5->transformer_lens) (5.9.8)\n",
      "Requirement already satisfied: sentry-sdk>=1.0.0 in /oscar/home/xwang259/.local/lib/python3.10/site-packages (from wandb>=0.13.5->transformer_lens) (2.1.1)\n",
      "Requirement already satisfied: setproctitle in /oscar/home/xwang259/.local/lib/python3.10/site-packages (from wandb>=0.13.5->transformer_lens) (1.3.3)\n",
      "Requirement already satisfied: six>=1.4.0 in /oscar/home/xwang259/.conda/envs/ACDC/lib/python3.10/site-packages (from docker-pycreds>=0.4.0->wandb>=0.13.5->transformer_lens) (1.16.0)\n",
      "Requirement already satisfied: attrs>=17.3.0 in /oscar/home/xwang259/.conda/envs/ACDC/lib/python3.10/site-packages (from aiohttp->datasets>=2.7.1->transformer_lens) (23.1.0)\n",
      "Requirement already satisfied: charset-normalizer<4.0,>=2.0 in /oscar/home/xwang259/.conda/envs/ACDC/lib/python3.10/site-packages (from aiohttp->datasets>=2.7.1->transformer_lens) (3.3.0)\n",
      "Requirement already satisfied: multidict<7.0,>=4.5 in /oscar/home/xwang259/.conda/envs/ACDC/lib/python3.10/site-packages (from aiohttp->datasets>=2.7.1->transformer_lens) (6.0.4)\n",
      "Requirement already satisfied: async-timeout<5.0,>=4.0.0a3 in /oscar/home/xwang259/.conda/envs/ACDC/lib/python3.10/site-packages (from aiohttp->datasets>=2.7.1->transformer_lens) (4.0.3)\n",
      "Requirement already satisfied: yarl<2.0,>=1.0 in /oscar/home/xwang259/.conda/envs/ACDC/lib/python3.10/site-packages (from aiohttp->datasets>=2.7.1->transformer_lens) (1.9.2)\n",
      "Requirement already satisfied: frozenlist>=1.1.1 in /oscar/home/xwang259/.conda/envs/ACDC/lib/python3.10/site-packages (from aiohttp->datasets>=2.7.1->transformer_lens) (1.4.0)\n",
      "Requirement already satisfied: aiosignal>=1.1.2 in /oscar/home/xwang259/.conda/envs/ACDC/lib/python3.10/site-packages (from aiohttp->datasets>=2.7.1->transformer_lens) (1.3.1)\n"
     ]
    },
    {
     "name": "stdout",
     "output_type": "stream",
     "text": [
      "Requirement already satisfied: gitdb<5,>=4.0.1 in /oscar/home/xwang259/.local/lib/python3.10/site-packages (from gitpython!=3.1.29,>=1.0.0->wandb>=0.13.5->transformer_lens) (4.0.11)\n",
      "Requirement already satisfied: mdurl~=0.1 in /oscar/home/xwang259/.conda/envs/ACDC/lib/python3.10/site-packages (from markdown-it-py>=2.2.0->rich>=12.6.0->transformer_lens) (0.1.2)\n",
      "Requirement already satisfied: idna<4,>=2.5 in /oscar/home/xwang259/.conda/envs/ACDC/lib/python3.10/site-packages (from requests>=2.19.0->datasets>=2.7.1->transformer_lens) (3.4)\n",
      "Requirement already satisfied: urllib3<3,>=1.21.1 in /oscar/home/xwang259/.conda/envs/ACDC/lib/python3.10/site-packages (from requests>=2.19.0->datasets>=2.7.1->transformer_lens) (2.0.6)\n",
      "Requirement already satisfied: certifi>=2017.4.17 in /oscar/home/xwang259/.conda/envs/ACDC/lib/python3.10/site-packages (from requests>=2.19.0->datasets>=2.7.1->transformer_lens) (2023.7.22)\n",
      "Requirement already satisfied: smmap<6,>=3.0.1 in /oscar/home/xwang259/.local/lib/python3.10/site-packages (from gitdb<5,>=4.0.1->gitpython!=3.1.29,>=1.0.0->wandb>=0.13.5->transformer_lens) (5.0.1)\n",
      "Note: you may need to restart the kernel to use updated packages.\n",
      "Requirement already satisfied: circuitsvis in /oscar/home/xwang259/.conda/envs/ACDC/lib/python3.10/site-packages (1.43.2)\n",
      "Requirement already satisfied: importlib-metadata>=5.1.0 in /oscar/home/xwang259/.conda/envs/ACDC/lib/python3.10/site-packages (from circuitsvis) (8.5.0)\n",
      "Requirement already satisfied: numpy>=1.24 in /oscar/home/xwang259/.local/lib/python3.10/site-packages (from circuitsvis) (1.26.4)\n",
      "Requirement already satisfied: nvidia-cublas-cu12==12.1.3.1 in /oscar/home/xwang259/.local/lib/python3.10/site-packages (from circuitsvis) (12.1.3.1)\n",
      "Requirement already satisfied: nvidia-cuda-cupti-cu12==12.1.105 in /oscar/home/xwang259/.local/lib/python3.10/site-packages (from circuitsvis) (12.1.105)\n",
      "Requirement already satisfied: nvidia-cuda-nvrtc-cu12==12.1.105 in /oscar/home/xwang259/.local/lib/python3.10/site-packages (from circuitsvis) (12.1.105)\n",
      "Requirement already satisfied: nvidia-cuda-runtime-cu12==12.1.105 in /oscar/home/xwang259/.local/lib/python3.10/site-packages (from circuitsvis) (12.1.105)\n",
      "Requirement already satisfied: nvidia-cudnn-cu12==8.9.2.26 in /oscar/home/xwang259/.local/lib/python3.10/site-packages (from circuitsvis) (8.9.2.26)\n",
      "Requirement already satisfied: nvidia-cufft-cu12==11.0.2.54 in /oscar/home/xwang259/.local/lib/python3.10/site-packages (from circuitsvis) (11.0.2.54)\n",
      "Requirement already satisfied: nvidia-curand-cu12==10.3.2.106 in /oscar/home/xwang259/.local/lib/python3.10/site-packages (from circuitsvis) (10.3.2.106)\n",
      "Requirement already satisfied: nvidia-cusolver-cu12==11.4.5.107 in /oscar/home/xwang259/.local/lib/python3.10/site-packages (from circuitsvis) (11.4.5.107)\n",
      "Requirement already satisfied: nvidia-cusparse-cu12==12.1.0.106 in /oscar/home/xwang259/.local/lib/python3.10/site-packages (from circuitsvis) (12.1.0.106)\n",
      "Requirement already satisfied: nvidia-nccl-cu12==2.18.1 in /oscar/home/xwang259/.conda/envs/ACDC/lib/python3.10/site-packages (from circuitsvis) (2.18.1)\n",
      "Requirement already satisfied: nvidia-nvtx-cu12==12.1.105 in /oscar/home/xwang259/.local/lib/python3.10/site-packages (from circuitsvis) (12.1.105)\n",
      "Requirement already satisfied: torch>=1.10 in /oscar/home/xwang259/.conda/envs/ACDC/lib/python3.10/site-packages (from circuitsvis) (1.13.1)\n",
      "Requirement already satisfied: triton==2.1.0 in /oscar/home/xwang259/.conda/envs/ACDC/lib/python3.10/site-packages (from circuitsvis) (2.1.0)\n",
      "Requirement already satisfied: nvidia-nvjitlink-cu12 in /oscar/home/xwang259/.local/lib/python3.10/site-packages (from nvidia-cusolver-cu12==11.4.5.107->circuitsvis) (12.4.127)\n",
      "Requirement already satisfied: filelock in /oscar/home/xwang259/.local/lib/python3.10/site-packages (from triton==2.1.0->circuitsvis) (3.14.0)\n",
      "Requirement already satisfied: zipp>=3.20 in /oscar/home/xwang259/.conda/envs/ACDC/lib/python3.10/site-packages (from importlib-metadata>=5.1.0->circuitsvis) (3.20.2)\n",
      "Requirement already satisfied: typing-extensions in /oscar/home/xwang259/.local/lib/python3.10/site-packages (from torch>=1.10->circuitsvis) (4.11.0)\n",
      "Requirement already satisfied: nvidia-cuda-runtime-cu11==11.7.99 in /oscar/home/xwang259/.conda/envs/ACDC/lib/python3.10/site-packages (from torch>=1.10->circuitsvis) (11.7.99)\n",
      "Requirement already satisfied: nvidia-cudnn-cu11==8.5.0.96 in /oscar/home/xwang259/.conda/envs/ACDC/lib/python3.10/site-packages (from torch>=1.10->circuitsvis) (8.5.0.96)\n",
      "Requirement already satisfied: nvidia-cublas-cu11==11.10.3.66 in /oscar/home/xwang259/.conda/envs/ACDC/lib/python3.10/site-packages (from torch>=1.10->circuitsvis) (11.10.3.66)\n",
      "Requirement already satisfied: nvidia-cuda-nvrtc-cu11==11.7.99 in /oscar/home/xwang259/.conda/envs/ACDC/lib/python3.10/site-packages (from torch>=1.10->circuitsvis) (11.7.99)\n",
      "Requirement already satisfied: setuptools in /oscar/home/xwang259/.conda/envs/ACDC/lib/python3.10/site-packages (from nvidia-cublas-cu11==11.10.3.66->torch>=1.10->circuitsvis) (68.2.2)\n",
      "Requirement already satisfied: wheel in /oscar/home/xwang259/.conda/envs/ACDC/lib/python3.10/site-packages (from nvidia-cublas-cu11==11.10.3.66->torch>=1.10->circuitsvis) (0.41.2)\n",
      "Note: you may need to restart the kernel to use updated packages.\n"
     ]
    }
   ],
   "source": [
    "%pip install transformer_lens\n",
    "%pip install circuitsvis\n",
    "\n",
    "# Install a faster Node version\n",
    "# !curl -fsSL https://deb.nodesource.com/setup_16.x | sudo -E bash -; sudo apt-get install -y nodejs  # noqa\n"
   ]
  },
  {
   "cell_type": "code",
   "execution_count": 7,
   "id": "7f419ef4",
   "metadata": {},
   "outputs": [
    {
     "name": "stdout",
     "output_type": "stream",
     "text": [
      "Using renderer: notebook_connected\n"
     ]
    }
   ],
   "source": [
    "# Plotly needs a different renderer for VSCode/Notebooks vs Colab argh\n",
    "import plotly.io as pio\n",
    "pio.renderers.default = \"notebook_connected\"\n",
    "print(f\"Using renderer: {pio.renderers.default}\")"
   ]
  },
  {
   "cell_type": "code",
   "execution_count": 10,
   "id": "b222d3ea",
   "metadata": {},
   "outputs": [
    {
     "data": {
      "text/html": [
       "<div id=\"circuits-vis-8036b3cd-b070\" style=\"margin: 15px 0;\"/>\n",
       "    <script crossorigin type=\"module\">\n",
       "    import { render, Hello } from \"https://unpkg.com/circuitsvis@1.43.2/dist/cdn/esm.js\";\n",
       "    render(\n",
       "      \"circuits-vis-8036b3cd-b070\",\n",
       "      Hello,\n",
       "      {\"name\": \"Rice\"}\n",
       "    )\n",
       "    </script>"
      ],
      "text/plain": [
       "<circuitsvis.utils.render.RenderedHTML at 0x7f49099e9d50>"
      ]
     },
     "execution_count": 10,
     "metadata": {},
     "output_type": "execute_result"
    }
   ],
   "source": [
    "import circuitsvis as cv\n",
    "# Testing that the library works\n",
    "cv.examples.hello(\"Rice\")"
   ]
  },
  {
   "cell_type": "code",
   "execution_count": 11,
   "id": "c9355d5e",
   "metadata": {},
   "outputs": [],
   "source": [
    "# Import stuff\n",
    "import torch\n",
    "import torch.nn as nn\n",
    "import einops\n",
    "from fancy_einsum import einsum\n",
    "import tqdm.auto as tqdm\n",
    "import plotly.express as px\n",
    "\n",
    "from jaxtyping import Float\n",
    "from functools import partial"
   ]
  },
  {
   "cell_type": "code",
   "execution_count": 12,
   "id": "7028ee22",
   "metadata": {},
   "outputs": [],
   "source": [
    "# import transformer_lens\n",
    "import transformer_lens.utils as utils\n",
    "from transformer_lens.hook_points import (\n",
    "    HookPoint,\n",
    ")  # Hooking utilities\n",
    "from transformer_lens import HookedTransformer, FactoredMatrix"
   ]
  },
  {
   "cell_type": "markdown",
   "id": "f60491ec",
   "metadata": {},
   "source": [
    "We turn automatic differentiation off, to save GPU memory, as this notebook focuses on model inference not model training."
   ]
  },
  {
   "cell_type": "code",
   "execution_count": 13,
   "id": "b295a100",
   "metadata": {},
   "outputs": [
    {
     "data": {
      "text/plain": [
       "<torch.autograd.grad_mode.set_grad_enabled at 0x7f451cb3e5c0>"
      ]
     },
     "execution_count": 13,
     "metadata": {},
     "output_type": "execute_result"
    }
   ],
   "source": [
    "torch.set_grad_enabled(False)"
   ]
  },
  {
   "cell_type": "markdown",
   "id": "e82e3be9",
   "metadata": {},
   "source": [
    "Plotting helper functions:"
   ]
  },
  {
   "cell_type": "code",
   "execution_count": 14,
   "id": "29ff9780",
   "metadata": {},
   "outputs": [],
   "source": [
    "def imshow(tensor, renderer=None, xaxis=\"\", yaxis=\"\", **kwargs):\n",
    "    px.imshow(utils.to_numpy(tensor), color_continuous_midpoint=0.0, color_continuous_scale=\"RdBu\", labels={\"x\":xaxis, \"y\":yaxis}, **kwargs).show(renderer)\n",
    "\n",
    "def line(tensor, renderer=None, xaxis=\"\", yaxis=\"\", **kwargs):\n",
    "    px.line(utils.to_numpy(tensor), labels={\"x\":xaxis, \"y\":yaxis}, **kwargs).show(renderer)\n",
    "\n",
    "def scatter(x, y, xaxis=\"\", yaxis=\"\", caxis=\"\", renderer=None, **kwargs):\n",
    "    x = utils.to_numpy(x)\n",
    "    y = utils.to_numpy(y)\n",
    "    px.scatter(y=y, x=x, labels={\"x\":xaxis, \"y\":yaxis, \"color\":caxis}, **kwargs).show(renderer)"
   ]
  },
  {
   "cell_type": "markdown",
   "id": "3b91b95b",
   "metadata": {},
   "source": [
    "## Loading and Running Models"
   ]
  },
  {
   "cell_type": "code",
   "execution_count": 16,
   "id": "fe7ce2e4",
   "metadata": {},
   "outputs": [
    {
     "name": "stdout",
     "output_type": "stream",
     "text": [
      "cuda\n"
     ]
    }
   ],
   "source": [
    "device = utils.get_device()\n",
    "print(device)"
   ]
  },
  {
   "cell_type": "code",
   "execution_count": 22,
   "id": "5790f8c5",
   "metadata": {},
   "outputs": [
    {
     "name": "stderr",
     "output_type": "stream",
     "text": [
      "WARNING:root:Support for BERT in TransformerLens is currently experimental, until such a time when it has feature parity with HookedTransformer and has been tested on real research tasks. Until then, backward compatibility is not guaranteed. Please see the docs for information on the limitations of the current implementation.\n",
      "If using BERT for interpretability research, keep in mind that BERT has some significant architectural differences to GPT. For example, LayerNorms are applied *after* the attention and MLP components, meaning that the last LayerNorm in a block cannot be folded.\n"
     ]
    },
    {
     "name": "stdout",
     "output_type": "stream",
     "text": [
      "Moving model to device:  cuda\n",
      "Loaded pretrained model bert-base-cased into HookedTransformer\n"
     ]
    }
   ],
   "source": [
    "from transformer_lens import HookedEncoder\n",
    "model = HookedEncoder.from_pretrained(\"bert-base-cased\", device=device)"
   ]
  },
  {
   "cell_type": "code",
   "execution_count": 24,
   "id": "bc583ab9",
   "metadata": {},
   "outputs": [
    {
     "ename": "AttributeError",
     "evalue": "'HookedEncoder' object has no attribute 'to_tokens'",
     "output_type": "error",
     "traceback": [
      "\u001b[0;31m---------------------------------------------------------------------------\u001b[0m",
      "\u001b[0;31mAttributeError\u001b[0m                            Traceback (most recent call last)",
      "Cell \u001b[0;32mIn[24], line 2\u001b[0m\n\u001b[1;32m      1\u001b[0m gpt2_text \u001b[38;5;241m=\u001b[39m \u001b[38;5;124m\"\u001b[39m\u001b[38;5;124mNatural language processing tasks, such as question answering, machine translation, reading comprehension, and summarization, are typically approached with supervised learning on taskspecific datasets.\u001b[39m\u001b[38;5;124m\"\u001b[39m\n\u001b[0;32m----> 2\u001b[0m gpt2_tokens \u001b[38;5;241m=\u001b[39m \u001b[43mmodel\u001b[49m\u001b[38;5;241;43m.\u001b[39;49m\u001b[43mto_tokens\u001b[49m(gpt2_text)\n\u001b[1;32m      3\u001b[0m \u001b[38;5;28mprint\u001b[39m(gpt2_tokens\u001b[38;5;241m.\u001b[39mdevice)\n\u001b[1;32m      4\u001b[0m gpt2_logits, gpt2_cache \u001b[38;5;241m=\u001b[39m model\u001b[38;5;241m.\u001b[39mrun_with_cache(gpt2_tokens, remove_batch_dim\u001b[38;5;241m=\u001b[39m\u001b[38;5;28;01mTrue\u001b[39;00m)\n",
      "File \u001b[0;32m~/.conda/envs/ACDC/lib/python3.10/site-packages/torch/nn/modules/module.py:1695\u001b[0m, in \u001b[0;36mModule.__getattr__\u001b[0;34m(self, name)\u001b[0m\n\u001b[1;32m   1693\u001b[0m     \u001b[38;5;28;01mif\u001b[39;00m name \u001b[38;5;129;01min\u001b[39;00m modules:\n\u001b[1;32m   1694\u001b[0m         \u001b[38;5;28;01mreturn\u001b[39;00m modules[name]\n\u001b[0;32m-> 1695\u001b[0m \u001b[38;5;28;01mraise\u001b[39;00m \u001b[38;5;167;01mAttributeError\u001b[39;00m(\u001b[38;5;124mf\u001b[39m\u001b[38;5;124m\"\u001b[39m\u001b[38;5;124m'\u001b[39m\u001b[38;5;132;01m{\u001b[39;00m\u001b[38;5;28mtype\u001b[39m(\u001b[38;5;28mself\u001b[39m)\u001b[38;5;241m.\u001b[39m\u001b[38;5;18m__name__\u001b[39m\u001b[38;5;132;01m}\u001b[39;00m\u001b[38;5;124m'\u001b[39m\u001b[38;5;124m object has no attribute \u001b[39m\u001b[38;5;124m'\u001b[39m\u001b[38;5;132;01m{\u001b[39;00mname\u001b[38;5;132;01m}\u001b[39;00m\u001b[38;5;124m'\u001b[39m\u001b[38;5;124m\"\u001b[39m)\n",
      "\u001b[0;31mAttributeError\u001b[0m: 'HookedEncoder' object has no attribute 'to_tokens'"
     ]
    }
   ],
   "source": [
    "gpt2_text = \"Natural language processing tasks, such as question answering, machine translation, reading comprehension, and summarization, are typically approached with supervised learning on taskspecific datasets.\"\n",
    "gpt2_tokens = model.to_tokens(gpt2_text)\n",
    "print(gpt2_tokens.device)\n",
    "gpt2_logits, gpt2_cache = model.run_with_cache(gpt2_tokens, remove_batch_dim=True)"
   ]
  },
  {
   "cell_type": "code",
   "execution_count": null,
   "id": "0677fb27",
   "metadata": {},
   "outputs": [],
   "source": []
  }
 ],
 "metadata": {
  "kernelspec": {
   "display_name": "Python 3 (ipykernel)",
   "language": "python",
   "name": "python3"
  },
  "language_info": {
   "codemirror_mode": {
    "name": "ipython",
    "version": 3
   },
   "file_extension": ".py",
   "mimetype": "text/x-python",
   "name": "python",
   "nbconvert_exporter": "python",
   "pygments_lexer": "ipython3",
   "version": "3.10.14"
  }
 },
 "nbformat": 4,
 "nbformat_minor": 5
}
